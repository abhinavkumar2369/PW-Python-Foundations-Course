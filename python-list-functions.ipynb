{
 "cells": [
  {
   "cell_type": "code",
   "execution_count": 2,
   "id": "5cc3ab42-3e69-4361-ba37-7a0dd3723c7e",
   "metadata": {
    "tags": []
   },
   "outputs": [
    {
     "name": "stdout",
     "output_type": "stream",
     "text": [
      "[]\n",
      "['a']\n"
     ]
    }
   ],
   "source": [
    "#                                          ANSWER--1\n",
    "a=[]\n",
    "print(a)\n",
    "a.append('a')\n",
    "print(a)"
   ]
  },
  {
   "cell_type": "code",
   "execution_count": 5,
   "id": "e9995efc-51ec-45f3-8ef3-0cfa0267f37e",
   "metadata": {
    "tags": []
   },
   "outputs": [
    {
     "name": "stdout",
     "output_type": "stream",
     "text": [
      "[1, 2, 3, 4, 5, 6, 7]\n",
      "[1, 2, 3, 4, 6, 7]\n",
      "7\n",
      "[1, 2, 3, 4, 6]\n"
     ]
    }
   ],
   "source": [
    "#                                          ANSWER--2\n",
    "b=[1,2,3,4,5,6,7]\n",
    "print(b)\n",
    "b.remove(5)\n",
    "print(b)\n",
    "print(b.pop())\n",
    "print(b)"
   ]
  },
  {
   "cell_type": "code",
   "execution_count": 6,
   "id": "8b4c1b9b-6bf5-49c7-a0d9-a6cb6374e277",
   "metadata": {
    "tags": []
   },
   "outputs": [
    {
     "name": "stdout",
     "output_type": "stream",
     "text": [
      "[1, 2, 3, 4, 5, 6, 7, 8, 9, 10]\n",
      "[10, 9, 8, 7, 6, 5, 4, 3, 2, 1]\n"
     ]
    }
   ],
   "source": [
    "#                                          ANSWER--3\n",
    "c=[1,2,3,4,5,6,7,8,9,10]\n",
    "print(c)\n",
    "c.sort(reverse=True)\n",
    "print(c)"
   ]
  },
  {
   "cell_type": "code",
   "execution_count": 8,
   "id": "a007b117-3148-4553-a813-5aac8f9a0e14",
   "metadata": {
    "tags": []
   },
   "outputs": [
    {
     "name": "stdout",
     "output_type": "stream",
     "text": [
      "2\n",
      "1\n",
      "3\n"
     ]
    }
   ],
   "source": [
    "#                                          ANSWER--4\n",
    "d=[1,1,2,3,4,5,5,5]\n",
    "print(d.count(1))\n",
    "print(d.count(2))\n",
    "print(d.count(5))"
   ]
  },
  {
   "cell_type": "code",
   "execution_count": 10,
   "id": "9eb6b96d-ebff-4b8b-985b-05dc84006c00",
   "metadata": {
    "tags": []
   },
   "outputs": [
    {
     "name": "stdout",
     "output_type": "stream",
     "text": [
      "['e', 'd', 'c', 'b', 'a']\n"
     ]
    }
   ],
   "source": [
    "#                                          ANSWER--5\n",
    "d=['a','b','c','d','e']\n",
    "d.reverse()\n",
    "print(d)"
   ]
  }
 ],
 "metadata": {
  "kernelspec": {
   "display_name": "Python 3 (ipykernel)",
   "language": "python",
   "name": "python3"
  },
  "language_info": {
   "codemirror_mode": {
    "name": "ipython",
    "version": 3
   },
   "file_extension": ".py",
   "mimetype": "text/x-python",
   "name": "python",
   "nbconvert_exporter": "python",
   "pygments_lexer": "ipython3",
   "version": "3.11.4"
  }
 },
 "nbformat": 4,
 "nbformat_minor": 5
}
