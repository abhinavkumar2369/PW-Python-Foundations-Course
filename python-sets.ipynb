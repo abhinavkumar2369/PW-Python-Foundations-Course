{
 "cells": [
  {
   "cell_type": "markdown",
   "id": "085df00f-5b8f-4f71-8da3-26d021a72663",
   "metadata": {},
   "source": [
    "ANSWER--1\n",
    "A set is a collection of items which is unordered, unchangeable, and unindexed. Duplicates element  are not allowed."
   ]
  },
  {
   "cell_type": "markdown",
   "id": "e53d6e03-4aca-4250-8d29-624d2dfd04c2",
   "metadata": {},
   "source": [
    "ANSWER--2\n",
    "Set can be created by using a set() constructor"
   ]
  },
  {
   "cell_type": "markdown",
   "id": "b03e036d-7d55-4291-b9f0-8aa665e48678",
   "metadata": {},
   "source": [
    "ANSWER--3\n",
    "Item can be added in set by     add()  method\n",
    "example:   a={'a','b','c'}\n",
    "a.add('d')"
   ]
  },
  {
   "cell_type": "markdown",
   "id": "f5f87b97-9284-437a-af18-a3acf282d4fd",
   "metadata": {},
   "source": [
    "ANSWER--4\n",
    "Item can be remove in set by     remove()  method\n",
    "example:   a={'a','b','c'}\n",
    "a.remove('a')"
   ]
  },
  {
   "cell_type": "markdown",
   "id": "84de7214-1223-4a49-b179-1fe8c26bed3b",
   "metadata": {},
   "source": [
    "ANSWER--5\n",
    "By using len() function we can get the lenght of the set."
   ]
  }
 ],
 "metadata": {
  "kernelspec": {
   "display_name": "Python 3 (ipykernel)",
   "language": "python",
   "name": "python3"
  },
  "language_info": {
   "codemirror_mode": {
    "name": "ipython",
    "version": 3
   },
   "file_extension": ".py",
   "mimetype": "text/x-python",
   "name": "python",
   "nbconvert_exporter": "python",
   "pygments_lexer": "ipython3",
   "version": "3.11.4"
  }
 },
 "nbformat": 4,
 "nbformat_minor": 5
}
