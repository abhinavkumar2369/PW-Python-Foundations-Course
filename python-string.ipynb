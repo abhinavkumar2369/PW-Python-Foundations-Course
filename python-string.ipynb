{
 "cells": [
  {
   "cell_type": "markdown",
   "id": "b97e316d-d2ff-4de5-90de-72fee908eca3",
   "metadata": {},
   "source": [
    "ANSWER--1     \n",
    "Single Quote (') can be stored in a string by writing '\\ ,  (') must be escaped with a backslash"
   ]
  },
  {
   "cell_type": "markdown",
   "id": "efd8539f-1eb8-49b9-95bb-fe49494b5dce",
   "metadata": {},
   "source": [
    "ANSWER--2    \n",
    "x is a string type variable because it has store a string data type value in it ."
   ]
  },
  {
   "cell_type": "code",
   "execution_count": 1,
   "id": "cf327d1f-1ad3-4ced-addf-0f1ca058a9a4",
   "metadata": {
    "tags": []
   },
   "outputs": [
    {
     "name": "stdout",
     "output_type": "stream",
     "text": [
      "8\n",
      "1\n",
      "40\n",
      "Hello World\n"
     ]
    }
   ],
   "source": [
    "#                                          ANSWER--3\n",
    "a = \"Welcome to the python  foundation course\"\n",
    "print(a.find(\"to\"))\n",
    "print(a.count(\"to\"))\n",
    "print(len(a))\n",
    "print(\"Hello\"+\" World\") "
   ]
  },
  {
   "cell_type": "code",
   "execution_count": 2,
   "id": "be0a9f5b-8502-4854-8801-b567c350b3e2",
   "metadata": {
    "tags": []
   },
   "outputs": [
    {
     "name": "stdout",
     "output_type": "stream",
     "text": [
      "Upper= 2  Lower= 4  number= 5\n"
     ]
    }
   ],
   "source": [
    "#                                          ANSWER--4\n",
    "word = \"PanaJi@12256\"\n",
    "lower,upper,number=0,0,0\n",
    "for a in word:\n",
    "    if (a.isupper()):\n",
    "        upper+=1\n",
    "    elif (a.islower()):\n",
    "        lower+=1\n",
    "    elif (a.isdigit()):\n",
    "        number+=1\n",
    "print(\"Upper=\",upper,\" Lower=\",lower,\" number=\",number)"
   ]
  },
  {
   "cell_type": "code",
   "execution_count": null,
   "id": "5da04e01-d1c1-4a1d-8cf2-bf2554c10116",
   "metadata": {
    "tags": []
   },
   "outputs": [],
   "source": [
    "#                                         ANSWER--5\n",
    "a = int(input(\"Enter Number : \"))\n",
    "a = str(a)\n",
    "print(a)"
   ]
  }
 ],
 "metadata": {
  "kernelspec": {
   "display_name": "Python 3 (ipykernel)",
   "language": "python",
   "name": "python3"
  },
  "language_info": {
   "codemirror_mode": {
    "name": "ipython",
    "version": 3
   },
   "file_extension": ".py",
   "mimetype": "text/x-python",
   "name": "python",
   "nbconvert_exporter": "python",
   "pygments_lexer": "ipython3",
   "version": "3.11.4"
  }
 },
 "nbformat": 4,
 "nbformat_minor": 5
}
