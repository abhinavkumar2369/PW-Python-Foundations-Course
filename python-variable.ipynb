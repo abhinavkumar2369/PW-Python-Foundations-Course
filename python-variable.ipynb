{
 "cells": [
  {
   "cell_type": "markdown",
   "id": "4b812cd5-2191-42c2-9d6c-6a33c20debd7",
   "metadata": {},
   "source": [
    "ANSWER--1\n",
    "The convention to be followed by declaring a variable are --\n",
    "~ There should not be any special character.\n",
    "~ It should not start with a number.\n",
    "~ Variable can contain _ Underscore special symbol only.\n",
    "~ Variable cannot have space in between."
   ]
  },
  {
   "cell_type": "markdown",
   "id": "bda78d35-dfd6-417d-bdf8-3934381b9242",
   "metadata": {},
   "source": [
    "ANSWER--2\n",
    "If we declare a restricted keyword as variable,  it will be raise a error."
   ]
  },
  {
   "cell_type": "markdown",
   "id": "0864c81b-8c33-4162-a50b-fabc4d37121e",
   "metadata": {},
   "source": [
    "ANSWER--3\n",
    "We cannot directly use string as variable ."
   ]
  },
  {
   "cell_type": "markdown",
   "id": "25c93249-1ad6-41d8-8ea9-0d899d0ca484",
   "metadata": {},
   "source": [
    "ANSWER--4\n",
    "Yes, it is possible to declare _ as a variable\n",
    "Example:\n",
    "_ = 10\n",
    "print(_)     //10"
   ]
  },
  {
   "cell_type": "markdown",
   "id": "4a6b9837-013a-46e1-b8cf-2c68bb30ad18",
   "metadata": {},
   "source": [
    "ANSWER--5\n",
    "Variable in python support type casting. If a particular variable is assigned a value of say integer data type  , it can be later assigned a value of string data type .\n",
    "a=10\n",
    "a=\"abc\"\n",
    "a=12.3"
   ]
  }
 ],
 "metadata": {
  "kernelspec": {
   "display_name": "Python 3 (ipykernel)",
   "language": "python",
   "name": "python3"
  },
  "language_info": {
   "codemirror_mode": {
    "name": "ipython",
    "version": 3
   },
   "file_extension": ".py",
   "mimetype": "text/x-python",
   "name": "python",
   "nbconvert_exporter": "python",
   "pygments_lexer": "ipython3",
   "version": "3.11.4"
  }
 },
 "nbformat": 4,
 "nbformat_minor": 5
}
