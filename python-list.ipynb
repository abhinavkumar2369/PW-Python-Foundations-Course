{
 "cells": [
  {
   "cell_type": "code",
   "execution_count": 1,
   "id": "ccba9a4a-ac31-425a-a8c9-6f0588f3dc86",
   "metadata": {
    "tags": []
   },
   "outputs": [],
   "source": [
    "#                                          ANSWER--1\n",
    "a=[]"
   ]
  },
  {
   "cell_type": "code",
   "execution_count": 12,
   "id": "409ca149-4170-4874-a9b3-66e7ae91ffef",
   "metadata": {
    "tags": []
   },
   "outputs": [
    {
     "name": "stdout",
     "output_type": "stream",
     "text": [
      "[1, 5, 4, 3, 2, 6, 7]\n",
      "[1, 5, 4, 3, 2, 6, 7, 100]\n"
     ]
    }
   ],
   "source": [
    "#                                          ANSWER--2\n",
    "a=[1,5,4,3,2,6,7]\n",
    "print(a)\n",
    "a.append(100)\n",
    "print(a)"
   ]
  },
  {
   "cell_type": "code",
   "execution_count": 13,
   "id": "1cd9c435-5c29-4747-a85a-757cbd079f57",
   "metadata": {
    "tags": []
   },
   "outputs": [
    {
     "name": "stdout",
     "output_type": "stream",
     "text": [
      "100\n"
     ]
    }
   ],
   "source": [
    "#                                          ANSWER--3\n",
    "print(a[-1])"
   ]
  },
  {
   "cell_type": "code",
   "execution_count": 14,
   "id": "08ef2923-896e-41de-8690-dfeb583748b0",
   "metadata": {
    "tags": []
   },
   "outputs": [
    {
     "name": "stdout",
     "output_type": "stream",
     "text": [
      "[1, 5, 4, 3, 2, 6, 7, 100]\n",
      "[100, 7, 6, 2, 3, 4, 5, 1]\n"
     ]
    }
   ],
   "source": [
    "#                                          ANSWER--4\n",
    "print(a)\n",
    "a.reverse()\n",
    "print(a)"
   ]
  },
  {
   "cell_type": "code",
   "execution_count": 15,
   "id": "fd8461ff-3424-4b53-a19a-d7d7c7b57f18",
   "metadata": {
    "tags": []
   },
   "outputs": [
    {
     "name": "stdout",
     "output_type": "stream",
     "text": [
      "[100, 7, 6, 2, 3, 4, 5, 1]\n",
      "[1, 2, 3, 4, 5, 6, 7, 100]\n"
     ]
    }
   ],
   "source": [
    "#                                          ANSWER--5\n",
    "print(a)\n",
    "a.sort()\n",
    "print(a)"
   ]
  },
  {
   "cell_type": "code",
   "execution_count": 16,
   "id": "586e6b8a-b842-4da9-a188-f69ef7f622e2",
   "metadata": {
    "tags": []
   },
   "outputs": [
    {
     "name": "stdout",
     "output_type": "stream",
     "text": [
      "Kedarnath\n"
     ]
    }
   ],
   "source": [
    "#                                          ANSWER--6\n",
    "a=[\"Dil Bechara\",\"Kedarnath\",\"M.S. Dhoni\"]\n",
    "print(a[1])"
   ]
  },
  {
   "cell_type": "code",
   "execution_count": 17,
   "id": "9bc64fd9-51d5-4554-9fea-8e2bb80881a6",
   "metadata": {
    "tags": []
   },
   "outputs": [
    {
     "name": "stdout",
     "output_type": "stream",
     "text": [
      "['lion', 'tiger', 'leopord']\n"
     ]
    }
   ],
   "source": [
    "#                                          ANSWER--7\n",
    "a=[\"lion\",\"tiger\"]\n",
    "a=a+[\"leopord\"]\n",
    "print(a)"
   ]
  },
  {
   "cell_type": "code",
   "execution_count": 18,
   "id": "b349f2c1-9b98-4748-a2da-8caed2fc53fa",
   "metadata": {
    "tags": []
   },
   "outputs": [
    {
     "name": "stdout",
     "output_type": "stream",
     "text": [
      "0\n"
     ]
    }
   ],
   "source": [
    "#                                          ANSWER--8\n",
    "a=[\"Lucknow\",\"Kanpur\",\"Delhi\"]\n",
    "print(a.index(\"Lucknow\"))"
   ]
  }
 ],
 "metadata": {
  "kernelspec": {
   "display_name": "Python 3 (ipykernel)",
   "language": "python",
   "name": "python3"
  },
  "language_info": {
   "codemirror_mode": {
    "name": "ipython",
    "version": 3
   },
   "file_extension": ".py",
   "mimetype": "text/x-python",
   "name": "python",
   "nbconvert_exporter": "python",
   "pygments_lexer": "ipython3",
   "version": "3.11.4"
  }
 },
 "nbformat": 4,
 "nbformat_minor": 5
}
