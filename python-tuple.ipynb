{
 "cells": [
  {
   "cell_type": "markdown",
   "id": "f0aefac5-0653-4b6a-9d01-ca16a63c9d8f",
   "metadata": {},
   "source": [
    "ANSWER--1\n",
    "\n",
    "Tuples are used to store multiple items in a single variable. \n",
    "A tuple is a collection which is ordered and unchangeable."
   ]
  },
  {
   "cell_type": "markdown",
   "id": "d5f1f818-af75-4367-96b8-e9a55fcf1e5c",
   "metadata": {},
   "source": [
    "ANSWER--2\n",
    "\n",
    "Tuple can be created as -----\n",
    "a=()\n",
    "a=('a','b')"
   ]
  },
  {
   "cell_type": "markdown",
   "id": "806e0db1-65ad-43fd-9dd5-5cf5c31bfc52",
   "metadata": {},
   "source": [
    "ANSWER--3\n",
    "\n",
    "Tuple are immutable    whereas  List are mutable.\n",
    "Tuple are written in ()     whereas  List are written in  []"
   ]
  },
  {
   "cell_type": "markdown",
   "id": "6f184f5b-2437-4655-a36f-dd8396133475",
   "metadata": {},
   "source": [
    "ANSWER--4\n",
    "\n",
    "Tuple cannot be changed in pythonas they are immutable."
   ]
  },
  {
   "cell_type": "markdown",
   "id": "15539732-fb3d-49df-9c92-6ca2175640b5",
   "metadata": {},
   "source": [
    "ANSWER--5\n",
    "\n",
    "Tuple can be accessed by writing indexes of element in square brackets [] ."
   ]
  },
  {
   "cell_type": "markdown",
   "id": "4d4d9dfa-1f49-48cb-a559-e7e784d2c612",
   "metadata": {},
   "source": [
    "ANSWER--6\n",
    "\n",
    "Let us take a tuple :\n",
    "t=[1,2,3,4,5,6,7,8,9,10]\n",
    "Unpacking of tuple\n",
    "a,b,c,d,e,f,g,h,i,j=[1,2,3,4,5,6,7,8,9,10]"
   ]
  }
 ],
 "metadata": {
  "kernelspec": {
   "display_name": "Python 3 (ipykernel)",
   "language": "python",
   "name": "python3"
  },
  "language_info": {
   "codemirror_mode": {
    "name": "ipython",
    "version": 3
   },
   "file_extension": ".py",
   "mimetype": "text/x-python",
   "name": "python",
   "nbconvert_exporter": "python",
   "pygments_lexer": "ipython3",
   "version": "3.11.4"
  }
 },
 "nbformat": 4,
 "nbformat_minor": 5
}
